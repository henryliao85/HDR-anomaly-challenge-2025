{
 "cells": [
  {
   "cell_type": "code",
   "execution_count": null,
   "metadata": {},
   "outputs": [],
   "source": [
    "import sys\n",
    "import torch\n",
    "\n",
    "# Add your path of library\n",
    "sys.path.append('../IHARP_code_submission')\n",
    "from model import Model\n",
    "\n",
    "sys.path.append('../IHARP_train')\n",
    "from fit_and_predict import fit, predict"
   ]
  },
  {
   "cell_type": "code",
   "execution_count": null,
   "metadata": {},
   "outputs": [],
   "source": [
    "device = torch.device(\"cuda\" if torch.cuda.is_available() else \"cpu\")\n",
    "\n",
    "checkpoint_path = f\"model_checkpoint.pth\"\n",
    "new_checkpoint_path = \"continued_model.pth\"\n",
    "\n",
    "label_dir = \"../IHARP_train/data/label\"\n",
    "\n",
    "training_data_dir = \"../IHARP_train/data/nc\"\n",
    "predict_data_dir = \"../IHARP_train/data/nc_predict\"\n",
    "\n",
    "csv_path = \"test.predictions.csv\"\n",
    "\n",
    "custom_args = {'lr': 5e-4, 'num_epochs': 1}  "
   ]
  },
  {
   "cell_type": "code",
   "execution_count": null,
   "metadata": {},
   "outputs": [],
   "source": [
    "# Create Model instance\n",
    "model = Model(args=custom_args)\n",
    "\n",
    "# Set arguments in Model instance\n",
    "model.set_cgf(custom_args)\n",
    "\n",
    "# Train model and save it as {checkpoint_path}\n",
    "fit(model, checkpoint_path, device, training_data_dir, label_dir)\n",
    "\n",
    "# Make prediction based on {model} on {device} using data at {predict_data_dir} and save the prediction to {csv_path}\n",
    "predict(model, device, predict_data_dir, label_dir, csv_path)"
   ]
  }
 ],
 "metadata": {
  "kernelspec": {
   "display_name": "anomaly",
   "language": "python",
   "name": "python3"
  },
  "language_info": {
   "codemirror_mode": {
    "name": "ipython",
    "version": 3
   },
   "file_extension": ".py",
   "mimetype": "text/x-python",
   "name": "python",
   "nbconvert_exporter": "python",
   "pygments_lexer": "ipython3",
   "version": "3.10.16"
  }
 },
 "nbformat": 4,
 "nbformat_minor": 2
}
