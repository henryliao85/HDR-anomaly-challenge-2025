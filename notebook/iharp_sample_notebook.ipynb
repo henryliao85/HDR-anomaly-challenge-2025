{
 "cells": [
  {
   "cell_type": "code",
   "execution_count": null,
   "metadata": {},
   "outputs": [],
   "source": [
    "import sys\n",
    "import torch\n",
    "\n",
    "# Add your path of library\n",
    "sys.path.append('../IHARP_code_submission')\n",
    "from model import Model\n",
    "\n",
    "sys.path.append('../IHARP_train')\n",
    "from fit_and_predict import fit, predict"
   ]
  },
  {
   "cell_type": "code",
   "execution_count": null,
   "metadata": {},
   "outputs": [],
   "source": [
    "device = torch.device(\"cuda\" if torch.cuda.is_available() else \"cpu\")\n",
    "\n",
    "checkpoint_path = f\"model_checkpoint.pth\"\n",
    "new_checkpoint_path = \"continued_model.pth\"\n",
    "\n",
    "training_data_dir = \"../IHARP_train/nc\"\n",
    "predict_data_dir = \"../IHARP_train/nc_predict\"\n",
    "\n",
    "csv_path = \"test.predictions.csv\"\n",
    "\n",
    "custom_args = {'lr': 5e-4, 'num_epochs': 1}  \n",
    "\n",
    "# Create Model instance\n",
    "model = Model(args=custom_args)\n",
    "\n",
    "# Set arguments in Model instance\n",
    "model.set_cfg(custom_args)\n",
    "\n",
    "# Train model and save it as {checkpoint_path}\n",
    "fit(model, checkpoint_path, device)\n",
    "\n",
    "# Make prediction based on {model} on {device} using data at {predict_data_dir} and save the prediction to {csv_path}\n",
    "predict(model, device, predict_data_dir, csv_path)"
   ]
  }
 ],
 "metadata": {
  "kernelspec": {
   "display_name": "anomaly",
   "language": "python",
   "name": "python3"
  },
  "language_info": {
   "name": "python",
   "version": "3.10.16"
  }
 },
 "nbformat": 4,
 "nbformat_minor": 2
}
