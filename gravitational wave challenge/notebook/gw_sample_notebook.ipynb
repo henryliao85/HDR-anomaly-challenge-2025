{
 "cells": [
  {
   "cell_type": "code",
   "execution_count": null,
   "metadata": {},
   "outputs": [],
   "source": [
    "import sys\n",
    "import torch\n",
    "import numpy as np\n",
    "\n",
    "# Add your path of library\n",
    "sys.path.append('../gw_code_submission')\n",
    "from model import Model\n",
    "from binary_classifier import SimpleBinaryClassifier\n",
    "from download_model_weight import download_model_weight\n",
    "\n",
    "sys.path.append('../gw_train')\n",
    "sys.path.append('../gw_train/Datasets')\n",
    "from model_train import train_classification"
   ]
  },
  {
   "cell_type": "code",
   "execution_count": null,
   "metadata": {},
   "outputs": [],
   "source": [
    "#########################################\n",
    "#      Training model\n",
    "#########################################\n",
    "\n",
    "device = torch.device(\"cuda\" if torch.cuda.is_available() else \"cpu\")\n",
    "\n",
    "in_dim = 100*2\n",
    "model = SimpleBinaryClassifier(in_dim, hidden_dim=128).to(device)\n",
    "\n",
    "# example datasets (First one should be background related data the others should be datas with signal)\n",
    "datasets = (\"background_train.npz\", \"bbh_for_challenge_train.npy\", \"sglf_for_challenge_train.npy\")\n",
    "\n",
    "custom_args = {'lr': 1e-3, 'num_epochs': 200, 'batch_size': 100000}  \n",
    "\n",
    "train_classification(\n",
    "    model,\n",
    "    datasets,  \n",
    "    \"model_name.pth\",\n",
    "    device,\n",
    "    epochs=custom_args['num_epochs'],\n",
    "    batch_size=custom_args['batch_size'],\n",
    "    lr_base=custom_args['lr']\n",
    ")"
   ]
  },
  {
   "cell_type": "code",
   "execution_count": null,
   "metadata": {},
   "outputs": [],
   "source": [
    "###########################################\n",
    "#        Using model for prediction\n",
    "###########################################\n",
    "\n",
    "# Clean up variable {model}\n",
    "del model\n",
    "\n",
    "# Create Model instance\n",
    "model = Model()\n",
    "\n",
    "# Download model weight\n",
    "download_model_weight()\n",
    "\n",
    "# Load trained model\n",
    "model.load(\"supervised_model.pth\")\n",
    "\n",
    "# Before running the code, please first download \"sglf_for_challenge.npy\" and place it in under \"../gw_train/Datasets/\"\n",
    "# Make prediction based on {model} on {device} using data at {predict_data_dir} and save the prediction to {csv_path}\n",
    "X_test = np.load(\"../gw_train/Datasets/sglf_for_challenge.npy\") # shape=(N, 2, 200), which should be test data(X_test/stds)\n",
    "stds = np.std(X_test, axis=-1)[:, :, np.newaxis]\n",
    "X_test = X_test/stds\n",
    "X_test = np.swapaxes(X_test, 1, 2)\n",
    "\n",
    "model.predict(X_test[:10])"
   ]
  },
  {
   "cell_type": "code",
   "execution_count": null,
   "metadata": {},
   "outputs": [],
   "source": []
  }
 ],
 "metadata": {
  "kernelspec": {
   "display_name": "hackthon",
   "language": "python",
   "name": "python3"
  },
  "language_info": {
   "codemirror_mode": {
    "name": "ipython",
    "version": 3
   },
   "file_extension": ".py",
   "mimetype": "text/x-python",
   "name": "python",
   "nbconvert_exporter": "python",
   "pygments_lexer": "ipython3",
   "version": "3.7.16"
  }
 },
 "nbformat": 4,
 "nbformat_minor": 2
}
