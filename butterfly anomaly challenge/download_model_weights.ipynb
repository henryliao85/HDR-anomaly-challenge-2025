{
 "cells": [
  {
   "cell_type": "code",
   "execution_count": null,
   "metadata": {},
   "outputs": [],
   "source": [
    "import wget\n",
    "\n",
    "# URL of the file to download\n",
    "file_urls = ['https://huggingface.co/pn74870/2025-NSF-HDR-Hackaton-Butterfly-Hybrid-Detection/resolve/main/best_model.pth',\"https://huggingface.co/pn74870/2025-NSF-HDR-Hackaton-Butterfly-Hybrid-Detection/resolve/main/cl_head_select_wings.pth\",\"https://huggingface.co/pn74870/2025-NSF-HDR-Hackaton-Butterfly-Hybrid-Detection/resolve/main/fine_tuned_bioclip_select_wings.pth\"]\n",
    "file_names = ['best_model.pth',\"cl_head_select_wings.pth\",\"fine_tuned_bioclip_select_wings.pth\"]\n",
    "\n",
    "# Download the file\n",
    "for file_url,filename in file_urls:\n",
    "    wget.download(file_url, filename)"
   ]
  }
 ],
 "metadata": {
  "language_info": {
   "name": "python"
  }
 },
 "nbformat": 4,
 "nbformat_minor": 2
}
