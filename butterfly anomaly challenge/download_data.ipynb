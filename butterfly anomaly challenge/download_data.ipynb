{
 "cells": [
  {
   "cell_type": "code",
   "execution_count": 11,
   "metadata": {},
   "outputs": [],
   "source": [
    "import pandas as pd\n",
    "import seaborn as sns\n",
    "\n",
    "sns.set_style(\"whitegrid\")"
   ]
  },
  {
   "cell_type": "markdown",
   "metadata": {},
   "source": [
    "## Load in the dataset CSV"
   ]
  },
  {
   "cell_type": "code",
   "execution_count": 12,
   "metadata": {},
   "outputs": [
    {
     "data": {
      "text/html": [
       "<div>\n",
       "<style scoped>\n",
       "    .dataframe tbody tr th:only-of-type {\n",
       "        vertical-align: middle;\n",
       "    }\n",
       "\n",
       "    .dataframe tbody tr th {\n",
       "        vertical-align: top;\n",
       "    }\n",
       "\n",
       "    .dataframe thead th {\n",
       "        text-align: right;\n",
       "    }\n",
       "</style>\n",
       "<table border=\"1\" class=\"dataframe\">\n",
       "  <thead>\n",
       "    <tr style=\"text-align: right;\">\n",
       "      <th></th>\n",
       "      <th>CAMID</th>\n",
       "      <th>file_url</th>\n",
       "      <th>hybrid_stat</th>\n",
       "      <th>split</th>\n",
       "      <th>zenodo_link</th>\n",
       "      <th>md5</th>\n",
       "      <th>subspecies</th>\n",
       "      <th>parent_subspecies_1</th>\n",
       "      <th>parent_subspecies_2</th>\n",
       "      <th>filename</th>\n",
       "    </tr>\n",
       "  </thead>\n",
       "  <tbody>\n",
       "    <tr>\n",
       "      <th>0</th>\n",
       "      <td>CAM017821</td>\n",
       "      <td>https://zenodo.org/record/1748277/files/CAM017...</td>\n",
       "      <td>hybrid</td>\n",
       "      <td>train</td>\n",
       "      <td>https://zenodo.org/record/1748277</td>\n",
       "      <td>ba38c61337e2d720f5f72451387d4a48</td>\n",
       "      <td>NaN</td>\n",
       "      <td>8.0</td>\n",
       "      <td>9.0</td>\n",
       "      <td>CAM017821.jpg</td>\n",
       "    </tr>\n",
       "    <tr>\n",
       "      <th>1</th>\n",
       "      <td>CAM017820</td>\n",
       "      <td>https://zenodo.org/record/1748277/files/CAM017...</td>\n",
       "      <td>hybrid</td>\n",
       "      <td>train</td>\n",
       "      <td>https://zenodo.org/record/1748277</td>\n",
       "      <td>9a2ff257a0ad17055eae3cc6c279a62b</td>\n",
       "      <td>NaN</td>\n",
       "      <td>8.0</td>\n",
       "      <td>9.0</td>\n",
       "      <td>CAM017820.jpg</td>\n",
       "    </tr>\n",
       "    <tr>\n",
       "      <th>2</th>\n",
       "      <td>CAM017693</td>\n",
       "      <td>https://zenodo.org/record/1748277/files/CAM017...</td>\n",
       "      <td>hybrid</td>\n",
       "      <td>train</td>\n",
       "      <td>https://zenodo.org/record/1748277</td>\n",
       "      <td>c314eec15bb53750bdd68595d95a5e93</td>\n",
       "      <td>NaN</td>\n",
       "      <td>8.0</td>\n",
       "      <td>9.0</td>\n",
       "      <td>CAM017693.jpg</td>\n",
       "    </tr>\n",
       "    <tr>\n",
       "      <th>3</th>\n",
       "      <td>CAM018291</td>\n",
       "      <td>https://zenodo.org/record/2548678/files/CAM018...</td>\n",
       "      <td>non-hybrid</td>\n",
       "      <td>train</td>\n",
       "      <td>https://zenodo.org/record/2548678</td>\n",
       "      <td>e3a7bf83bdb9f11c035873a623a31345</td>\n",
       "      <td>8.0</td>\n",
       "      <td>NaN</td>\n",
       "      <td>NaN</td>\n",
       "      <td>CAM018291.jpg</td>\n",
       "    </tr>\n",
       "    <tr>\n",
       "      <th>4</th>\n",
       "      <td>CAM011430</td>\n",
       "      <td>https://zenodo.org/record/2550097/files/CAM011...</td>\n",
       "      <td>non-hybrid</td>\n",
       "      <td>train</td>\n",
       "      <td>https://zenodo.org/record/2550097</td>\n",
       "      <td>5060c653aea379c72802aa3ef8af32b0</td>\n",
       "      <td>9.0</td>\n",
       "      <td>NaN</td>\n",
       "      <td>NaN</td>\n",
       "      <td>CAM011430.jpg</td>\n",
       "    </tr>\n",
       "  </tbody>\n",
       "</table>\n",
       "</div>"
      ],
      "text/plain": [
       "       CAMID                                           file_url hybrid_stat  \\\n",
       "0  CAM017821  https://zenodo.org/record/1748277/files/CAM017...      hybrid   \n",
       "1  CAM017820  https://zenodo.org/record/1748277/files/CAM017...      hybrid   \n",
       "2  CAM017693  https://zenodo.org/record/1748277/files/CAM017...      hybrid   \n",
       "3  CAM018291  https://zenodo.org/record/2548678/files/CAM018...  non-hybrid   \n",
       "4  CAM011430  https://zenodo.org/record/2550097/files/CAM011...  non-hybrid   \n",
       "\n",
       "   split                        zenodo_link                               md5  \\\n",
       "0  train  https://zenodo.org/record/1748277  ba38c61337e2d720f5f72451387d4a48   \n",
       "1  train  https://zenodo.org/record/1748277  9a2ff257a0ad17055eae3cc6c279a62b   \n",
       "2  train  https://zenodo.org/record/1748277  c314eec15bb53750bdd68595d95a5e93   \n",
       "3  train  https://zenodo.org/record/2548678  e3a7bf83bdb9f11c035873a623a31345   \n",
       "4  train  https://zenodo.org/record/2550097  5060c653aea379c72802aa3ef8af32b0   \n",
       "\n",
       "   subspecies  parent_subspecies_1  parent_subspecies_2       filename  \n",
       "0         NaN                  8.0                  9.0  CAM017821.jpg  \n",
       "1         NaN                  8.0                  9.0  CAM017820.jpg  \n",
       "2         NaN                  8.0                  9.0  CAM017693.jpg  \n",
       "3         8.0                  NaN                  NaN  CAM018291.jpg  \n",
       "4         9.0                  NaN                  NaN  CAM011430.jpg  "
      ]
     },
     "execution_count": 12,
     "metadata": {},
     "output_type": "execute_result"
    }
   ],
   "source": [
    "df = pd.read_csv(\"https://raw.githubusercontent.com/Imageomics/HDR-anomaly-challenge/refs/heads/main/files/butterfly_anomaly_train.csv\")\n",
    "df.head()"
   ]
  },
  {
   "cell_type": "markdown",
   "metadata": {},
   "source": [
    "## Make one column with classification\n",
    "\n",
    "This is the subspecies (which may is a mix of two for some specimens, the hybrids); this is for coloring the distribution plot by hybrid status and showing all together."
   ]
  },
  {
   "cell_type": "code",
   "execution_count": 13,
   "metadata": {},
   "outputs": [],
   "source": [
    "for camid in list(df.loc[df[\"subspecies\"].isna(), \"CAMID\"]):\n",
    "    temp = df.loc[df[\"CAMID\"] == camid]\n",
    "    subspecies = temp[\"parent_subspecies_1\"].astype(str) + \" and \" + temp[\"parent_subspecies_2\"].astype(str)\n",
    "    df.loc[df[\"CAMID\"] == camid, \"classification\"] = subspecies\n",
    "for camid in list(df.loc[df[\"subspecies\"].notna(), \"CAMID\"]):\n",
    "    temp = df.loc[df[\"CAMID\"] == camid]\n",
    "    subspecies = temp[\"subspecies\"].astype(str)\n",
    "    df.loc[df[\"CAMID\"] == camid, \"classification\"] = subspecies"
   ]
  },
  {
   "cell_type": "code",
   "execution_count": 14,
   "metadata": {},
   "outputs": [
    {
     "data": {
      "text/html": [
       "<div>\n",
       "<style scoped>\n",
       "    .dataframe tbody tr th:only-of-type {\n",
       "        vertical-align: middle;\n",
       "    }\n",
       "\n",
       "    .dataframe tbody tr th {\n",
       "        vertical-align: top;\n",
       "    }\n",
       "\n",
       "    .dataframe thead th {\n",
       "        text-align: right;\n",
       "    }\n",
       "</style>\n",
       "<table border=\"1\" class=\"dataframe\">\n",
       "  <thead>\n",
       "    <tr style=\"text-align: right;\">\n",
       "      <th></th>\n",
       "      <th>CAMID</th>\n",
       "      <th>file_url</th>\n",
       "      <th>hybrid_stat</th>\n",
       "      <th>split</th>\n",
       "      <th>zenodo_link</th>\n",
       "      <th>md5</th>\n",
       "      <th>subspecies</th>\n",
       "      <th>parent_subspecies_1</th>\n",
       "      <th>parent_subspecies_2</th>\n",
       "      <th>filename</th>\n",
       "      <th>classification</th>\n",
       "    </tr>\n",
       "  </thead>\n",
       "  <tbody>\n",
       "    <tr>\n",
       "      <th>0</th>\n",
       "      <td>CAM017821</td>\n",
       "      <td>https://zenodo.org/record/1748277/files/CAM017...</td>\n",
       "      <td>hybrid</td>\n",
       "      <td>train</td>\n",
       "      <td>https://zenodo.org/record/1748277</td>\n",
       "      <td>ba38c61337e2d720f5f72451387d4a48</td>\n",
       "      <td>NaN</td>\n",
       "      <td>8.0</td>\n",
       "      <td>9.0</td>\n",
       "      <td>CAM017821.jpg</td>\n",
       "      <td>8.0 and 9.0</td>\n",
       "    </tr>\n",
       "    <tr>\n",
       "      <th>1</th>\n",
       "      <td>CAM017820</td>\n",
       "      <td>https://zenodo.org/record/1748277/files/CAM017...</td>\n",
       "      <td>hybrid</td>\n",
       "      <td>train</td>\n",
       "      <td>https://zenodo.org/record/1748277</td>\n",
       "      <td>9a2ff257a0ad17055eae3cc6c279a62b</td>\n",
       "      <td>NaN</td>\n",
       "      <td>8.0</td>\n",
       "      <td>9.0</td>\n",
       "      <td>CAM017820.jpg</td>\n",
       "      <td>8.0 and 9.0</td>\n",
       "    </tr>\n",
       "    <tr>\n",
       "      <th>2</th>\n",
       "      <td>CAM017693</td>\n",
       "      <td>https://zenodo.org/record/1748277/files/CAM017...</td>\n",
       "      <td>hybrid</td>\n",
       "      <td>train</td>\n",
       "      <td>https://zenodo.org/record/1748277</td>\n",
       "      <td>c314eec15bb53750bdd68595d95a5e93</td>\n",
       "      <td>NaN</td>\n",
       "      <td>8.0</td>\n",
       "      <td>9.0</td>\n",
       "      <td>CAM017693.jpg</td>\n",
       "      <td>8.0 and 9.0</td>\n",
       "    </tr>\n",
       "    <tr>\n",
       "      <th>3</th>\n",
       "      <td>CAM018291</td>\n",
       "      <td>https://zenodo.org/record/2548678/files/CAM018...</td>\n",
       "      <td>non-hybrid</td>\n",
       "      <td>train</td>\n",
       "      <td>https://zenodo.org/record/2548678</td>\n",
       "      <td>e3a7bf83bdb9f11c035873a623a31345</td>\n",
       "      <td>8.0</td>\n",
       "      <td>NaN</td>\n",
       "      <td>NaN</td>\n",
       "      <td>CAM018291.jpg</td>\n",
       "      <td>8.0</td>\n",
       "    </tr>\n",
       "    <tr>\n",
       "      <th>4</th>\n",
       "      <td>CAM011430</td>\n",
       "      <td>https://zenodo.org/record/2550097/files/CAM011...</td>\n",
       "      <td>non-hybrid</td>\n",
       "      <td>train</td>\n",
       "      <td>https://zenodo.org/record/2550097</td>\n",
       "      <td>5060c653aea379c72802aa3ef8af32b0</td>\n",
       "      <td>9.0</td>\n",
       "      <td>NaN</td>\n",
       "      <td>NaN</td>\n",
       "      <td>CAM011430.jpg</td>\n",
       "      <td>9.0</td>\n",
       "    </tr>\n",
       "  </tbody>\n",
       "</table>\n",
       "</div>"
      ],
      "text/plain": [
       "       CAMID                                           file_url hybrid_stat  \\\n",
       "0  CAM017821  https://zenodo.org/record/1748277/files/CAM017...      hybrid   \n",
       "1  CAM017820  https://zenodo.org/record/1748277/files/CAM017...      hybrid   \n",
       "2  CAM017693  https://zenodo.org/record/1748277/files/CAM017...      hybrid   \n",
       "3  CAM018291  https://zenodo.org/record/2548678/files/CAM018...  non-hybrid   \n",
       "4  CAM011430  https://zenodo.org/record/2550097/files/CAM011...  non-hybrid   \n",
       "\n",
       "   split                        zenodo_link                               md5  \\\n",
       "0  train  https://zenodo.org/record/1748277  ba38c61337e2d720f5f72451387d4a48   \n",
       "1  train  https://zenodo.org/record/1748277  9a2ff257a0ad17055eae3cc6c279a62b   \n",
       "2  train  https://zenodo.org/record/1748277  c314eec15bb53750bdd68595d95a5e93   \n",
       "3  train  https://zenodo.org/record/2548678  e3a7bf83bdb9f11c035873a623a31345   \n",
       "4  train  https://zenodo.org/record/2550097  5060c653aea379c72802aa3ef8af32b0   \n",
       "\n",
       "   subspecies  parent_subspecies_1  parent_subspecies_2       filename  \\\n",
       "0         NaN                  8.0                  9.0  CAM017821.jpg   \n",
       "1         NaN                  8.0                  9.0  CAM017820.jpg   \n",
       "2         NaN                  8.0                  9.0  CAM017693.jpg   \n",
       "3         8.0                  NaN                  NaN  CAM018291.jpg   \n",
       "4         9.0                  NaN                  NaN  CAM011430.jpg   \n",
       "\n",
       "  classification  \n",
       "0    8.0 and 9.0  \n",
       "1    8.0 and 9.0  \n",
       "2    8.0 and 9.0  \n",
       "3            8.0  \n",
       "4            9.0  "
      ]
     },
     "execution_count": 14,
     "metadata": {},
     "output_type": "execute_result"
    }
   ],
   "source": [
    "df.head()"
   ]
  },
  {
   "cell_type": "markdown",
   "metadata": {},
   "source": [
    "## Get distribution of images by subspecies (colored by hybrid status)"
   ]
  },
  {
   "cell_type": "code",
   "execution_count": 5,
   "metadata": {},
   "outputs": [
    {
     "data": {
      "text/plain": [
       "<Axes: xlabel='Count', ylabel='classification'>"
      ]
     },
     "execution_count": 5,
     "metadata": {},
     "output_type": "execute_result"
    },
    {
     "data": {
      "image/png": "[encoded data removed]",
      "text/plain": [
       "<Figure size 640x480 with 1 Axes>"
      ]
     },
     "metadata": {},
     "output_type": "display_data"
    }
   ],
   "source": [
    "sns.histplot(df, y = \"classification\", hue = \"hybrid_stat\")"
   ]
  },
  {
   "cell_type": "markdown",
   "metadata": {},
   "source": [
    "## Create sample subset of data for example"
   ]
  },
  {
   "cell_type": "code",
   "execution_count": 15,
   "metadata": {},
   "outputs": [],
   "source": [
    "from sklearn.model_selection import train_test_split"
   ]
  },
  {
   "cell_type": "code",
   "execution_count": 16,
   "metadata": {},
   "outputs": [
    {
     "name": "stdout",
     "output_type": "stream",
     "text": [
      "<class 'pandas.core.frame.DataFrame'>\n",
      "Index: 313 entries, 1722 to 1780\n",
      "Data columns (total 11 columns):\n",
      " #   Column               Non-Null Count  Dtype  \n",
      "---  ------               --------------  -----  \n",
      " 0   CAMID                313 non-null    object \n",
      " 1   file_url             313 non-null    object \n",
      " 2   hybrid_stat          313 non-null    object \n",
      " 3   split                313 non-null    object \n",
      " 4   zenodo_link          313 non-null    object \n",
      " 5   md5                  313 non-null    object \n",
      " 6   subspecies           299 non-null    float64\n",
      " 7   parent_subspecies_1  14 non-null     float64\n",
      " 8   parent_subspecies_2  14 non-null     float64\n",
      " 9   filename             313 non-null    object \n",
      " 10  classification       313 non-null    object \n",
      "dtypes: float64(3), object(8)\n",
      "memory usage: 29.3+ KB\n"
     ]
    }
   ],
   "source": [
    "# Get stratified 15% of the training images for sample run (should take about 12 minutes to download),\n",
    "# update \"test_size\" to select more or less sample images.\n",
    "df_set, df_sample = train_test_split(df, test_size = .15, stratify = df[\"classification\"], random_state = 614)\n",
    "\n",
    "df_sample.info()"
   ]
  },
  {
   "cell_type": "markdown",
   "metadata": {},
   "source": [
    "## Download Data"
   ]
  },
  {
   "cell_type": "code",
   "execution_count": 17,
   "metadata": {},
   "outputs": [],
   "source": [
    "from cautiousrobot.__main__ import download_images\n",
    "from cautiousrobot.buddy_check import BuddyCheck\n",
    "from sumbuddy import get_checksums"
   ]
  },
  {
   "cell_type": "markdown",
   "metadata": {},
   "source": [
    "Download images and validate the download. Note that these will work in one step run in the command line with the following code:\n",
    "```\n",
    "cautious-robot -i <path/to/butterfly_anomaly_train.csv> -o <path/to/images> -s hybrid_stat -l 256 -v md5\n",
    "```\n",
    "where `<path/to/images>` is `sample_images`."
   ]
  },
  {
   "cell_type": "code",
   "execution_count": 18,
   "metadata": {},
   "outputs": [],
   "source": [
    "# set paths\n",
    "IMG_DIR = \"sample_images\"\n",
    "CHECKSUM_PATH = \"sample_images_checksums\""
   ]
  },
  {
   "cell_type": "code",
   "execution_count": 19,
   "metadata": {},
   "outputs": [
    {
     "name": "stderr",
     "output_type": "stream",
     "text": [
      "100%|██████████| 313/313 [09:02<00:00,  1.73s/it]\n"
     ]
    }
   ],
   "source": [
    "download_images(df_sample,\n",
    "                img_dir = IMG_DIR,\n",
    "                log_filepath = \"sample_img_logs\",\n",
    "                error_log_filepath = \"sample_img_error_logs\",\n",
    "                # subfolders = \"hybrid_stat\",\n",
    "                downsample_path = \"sample_images_downsized\",\n",
    "                downsample = 256\n",
    ")"
   ]
  },
  {
   "cell_type": "code",
   "execution_count": 20,
   "metadata": {},
   "outputs": [
    {
     "name": "stderr",
     "output_type": "stream",
     "text": [
      "Calculating md5 checksums on sample_images:   0%|          | 0/313 [00:00<?, ?it/s]"
     ]
    },
    {
     "name": "stderr",
     "output_type": "stream",
     "text": [
      "Calculating md5 checksums on sample_images: 100%|██████████| 313/313 [00:03<00:00, 80.35it/s]"
     ]
    },
    {
     "name": "stdout",
     "output_type": "stream",
     "text": [
      "md5 checksums for sample_images written to sample_images_checksums\n",
      "313 images were downloaded to sample_images of the 313 expected.\n"
     ]
    },
    {
     "name": "stderr",
     "output_type": "stream",
     "text": [
      "\n"
     ]
    }
   ],
   "source": [
    "# Get checksums of downloaded images\n",
    "get_checksums(input_path = IMG_DIR,\n",
    "              output_filepath = CHECKSUM_PATH\n",
    "              )\n",
    "        \n",
    "# verify numbers\n",
    "checksum_df = pd.read_csv(CHECKSUM_PATH, low_memory = False)\n",
    "expected_num_imgs = df_sample.shape[0]\n",
    "print(f\"{checksum_df.shape[0]} images were downloaded to {IMG_DIR} of the {expected_num_imgs} expected.\")"
   ]
  },
  {
   "cell_type": "code",
   "execution_count": 21,
   "metadata": {},
   "outputs": [
    {
     "name": "stdout",
     "output_type": "stream",
     "text": [
      "merging on checksums and IDs\n",
      "Buddy check successful. All 313 expected images accounted for.\n"
     ]
    }
   ],
   "source": [
    "# Check for all expected image match\n",
    "buddy_check = BuddyCheck(buddy_id = \"filename\", buddy_col = \"md5\")\n",
    "missing_imgs = buddy_check.validate_download(source_df = df_sample,\n",
    "                                        checksum_df = checksum_df,\n",
    "                                        source_validation_col = \"md5\")\n",
    "if missing_imgs is not None:\n",
    "    missing_imgs.to_csv(\"samples_missing.csv\", index = False)\n",
    "    print(f\"See samples_missing.csv for missing image info and check logs.\")\n",
    "else:\n",
    "    print(f\"Buddy check successful. All {expected_num_imgs} expected images accounted for.\")"
   ]
  },
  {
   "cell_type": "code",
   "execution_count": null,
   "metadata": {},
   "outputs": [],
   "source": [
    "# Save the sample annotation\n",
    "df_sample.to_csv('./sample_annotation.csv')"
   ]
  }
 ],
 "metadata": {
  "kernelspec": {
   "display_name": "anomaly_train",
   "language": "python",
   "name": "python3"
  },
  "language_info": {
   "codemirror_mode": {
    "name": "ipython",
    "version": 3
   },
   "file_extension": ".py",
   "mimetype": "text/x-python",
   "name": "python",
   "nbconvert_exporter": "python",
   "pygments_lexer": "ipython3",
   "version": "3.10.15"
  }
 },
 "nbformat": 4,
 "nbformat_minor": 4
}
